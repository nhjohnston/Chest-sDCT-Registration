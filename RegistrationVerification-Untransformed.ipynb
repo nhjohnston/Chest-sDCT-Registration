{
 "cells": [
  {
   "cell_type": "code",
   "execution_count": null,
   "id": "2c0c6fbf",
   "metadata": {},
   "outputs": [],
   "source": [
    "# Verification Proccess\n",
    "# 1. Get CT source points from vessel extraction\n",
    "# 2. Transform CT points given registration solution\n",
    "# 3. Create combined image\n",
    "# 4. Verify in imageviewer"
   ]
  },
  {
   "cell_type": "code",
   "execution_count": null,
   "id": "1ec7f0eb",
   "metadata": {},
   "outputs": [],
   "source": [
    "import os\n",
    "import sys\n",
    "import numpy as np\n",
    "import itk\n",
    "from itk import TubeTK as ttk\n",
    "from itkwidgets import view\n",
    "import math\n",
    "import functions as func"
   ]
  },
  {
   "cell_type": "code",
   "execution_count": null,
   "id": "c0f57792",
   "metadata": {},
   "outputs": [],
   "source": [
    "# Directory names\n",
    "pipelineDir = \"C:/src/chestTomoPipeline/\"\n",
    "\n",
    "# patient 1\n",
    "# tube_file = \"C:/src/ITKTubeTK-ChestTomosynthesis/data/2022-ChestTomo-Scatter/results/CT-Lungs-Vessels_01.tre\"\n",
    "# tube_out_file = \"C:/src/ITKTubeTK-ChestTomosynthesis/data/2022-ChestTomo-Scatter/results/CT-Lungs-Vessels_01_transformed.tre\"\n",
    "# recon_file_3D = \"C:/src/ITKTubeTK-ChestTomosynthesis/data/2022-ChestTomo-Scatter/TomoRecons/CS01/CS01/CS01A/TR_01_02.nii\"\n",
    "# ct_file = \"C:/src/ITKTubeTK-ChestTomosynthesis/data/2022-ChestTomo-Scatter/CTData/CS-01_CT_8.26.20/CT_01_04.nii\" \n",
    "# solution_output_filename = \"regSolution_01.txt\"\n",
    "# combined_image_filename = \"combined_01_untransformed.mha\"\n",
    "# x_init = [0, 0, -35, 0, 0, 0]\n",
    "# img = itk.imread(ct_file)\n",
    "# spacing = img.GetSpacing()\n",
    "# spacing = spacing[0]"
   ]
  },
  {
   "cell_type": "code",
   "execution_count": null,
   "id": "f6d73c26",
   "metadata": {},
   "outputs": [],
   "source": [
    "# patient 2\n",
    "# tube_file = \"C:/src/ITKTubeTK-ChestTomosynthesis/data/2022-ChestTomo-Scatter/results/CT-Lungs-Vessels_02.tre\"\n",
    "# tube_out_file = \"C:/src/ITKTubeTK-ChestTomosynthesis/data/2022-ChestTomo-Scatter/results/CT-Lungs-Vessels_02_transformed.tre\"\n",
    "# recon_file_3D = \"C:/src/ITKTubeTK-ChestTomosynthesis/data/2022-ChestTomo-Scatter/TomoRecons/CS02/CS02/CS02A/TR_02_02.nii\"\n",
    "# ct_file = \"C:/src/ITKTubeTK-ChestTomosynthesis/data/2022-ChestTomo-Scatter/CTData/CS-04_CT_11.17.20/CT_04_02.nii\"\n",
    "# solution_output_filename = \"regSolution_02.txt\"\n",
    "# combined_image_filename = \"combined_02_untransformed.mha\"\n",
    "# x_init = [0, -55, 10, 0, 0, 0]\n",
    "# img = itk.imread(ct_file)\n",
    "# spacing = img.GetSpacing()\n",
    "# spacing = spacing[0]"
   ]
  },
  {
   "cell_type": "code",
   "execution_count": null,
   "id": "f10fd5fa",
   "metadata": {},
   "outputs": [],
   "source": [
    "# patient 3\n",
    "# tube_file = \"C:/src/ITKTubeTK-ChestTomosynthesis/data/2022-ChestTomo-Scatter/results/CT-Lungs-Vessels_03.tre\"\n",
    "# tube_out_file = \"C:/src/ITKTubeTK-ChestTomosynthesis/data/2022-ChestTomo-Scatter/results/CT-Lungs-Vessels_03_transformed.tre\"\n",
    "# recon_file_3D = \"C:/src/ITKTubeTK-ChestTomosynthesis/data/2022-ChestTomo-Scatter/TomoRecons/CS03/CS03/CS03A/TR_03_02.nii\"\n",
    "# ct_file = \"C:/src/ITKTubeTK-ChestTomosynthesis/data/2022-ChestTomo-Scatter/CTData/CS-03_CT_11.16.20/CT_03_04.nii\" \n",
    "# solution_output_filename = \"regSolution_03.txt\"\n",
    "# combined_image_filename = \"combined_03_untransformed.mha\"\n",
    "# x_init = [10, 275, -50, 0, 0, 0]\n",
    "# img = itk.imread(ct_file)\n",
    "# spacing = img.GetSpacing()\n",
    "# spacing = spacing[0]"
   ]
  },
  {
   "cell_type": "code",
   "execution_count": null,
   "id": "6d7e73d8",
   "metadata": {},
   "outputs": [],
   "source": [
    "# patient 4\n",
    "# tube_file = \"C:/src/ITKTubeTK-ChestTomosynthesis/data/2022-ChestTomo-Scatter/results/CT-Lungs-Vessels_04.tre\"\n",
    "# tube_out_file = \"C:/src/ITKTubeTK-ChestTomosynthesis/data/2022-ChestTomo-Scatter/results/CT-Lungs-Vessels_04_transformed.tre\"\n",
    "# recon_file_3D = \"C:/src/ITKTubeTK-ChestTomosynthesis/data/2022-ChestTomo-Scatter/TomoRecons/CS04/CS04/CS04A/TR_04_02.nii\"\n",
    "# ct_file = \"C:/src/ITKTubeTK-ChestTomosynthesis/data/2022-ChestTomo-Scatter/CTData/CS-04_CT_11.17.20/CT_04_02.nii\"\n",
    "# solution_output_filename = \"regSolution_04.txt\"\n",
    "# combined_image_filename = \"combined_04_untransformed.mha\"\n",
    "# x_init = [-10, 155, -25, 0, 0, 0]\n",
    "# img = itk.imread(ct_file)\n",
    "# spacing = img.GetSpacing()\n",
    "# spacing = spacing[0]"
   ]
  },
  {
   "cell_type": "code",
   "execution_count": null,
   "id": "da34492f",
   "metadata": {},
   "outputs": [],
   "source": [
    "# patient 5\n",
    "tube_file = \"C:/src/ITKTubeTK-ChestTomosynthesis/data/2022-ChestTomo-Scatter/results/CT-Lungs-Vessels_05.tre\"\n",
    "tube_out_file = \"C:/src/ITKTubeTK-ChestTomosynthesis/data/2022-ChestTomo-Scatter/results/CT-Lungs-Vessels_05_transformed.tre\"\n",
    "recon_file_3D = \"C:/src/ITKTubeTK-ChestTomosynthesis/data/2022-ChestTomo-Scatter/TomoRecons/CS05/CS05/CS05A/TR_05_02.nii\"\n",
    "ct_file = \"C:/src/ITKTubeTK-ChestTomosynthesis/data/2022-ChestTomo-Scatter/CTData/CS-05_CT_11.18.20/CT_05_03.nii\" \n",
    "solution_output_filename = \"regSolution_05.txt\"\n",
    "combined_image_filename = \"combined_05_untransformed.mha\"\n",
    "x_init = [-20, 120, -50, 0, 0, 0]\n",
    "img = itk.imread(ct_file)\n",
    "spacing = img.GetSpacing()\n",
    "spacing = spacing[0]"
   ]
  },
  {
   "cell_type": "code",
   "execution_count": null,
   "id": "91c85615",
   "metadata": {},
   "outputs": [],
   "source": [
    "# Change spacing in tomoRecon volume to correct spacing, write corrected image\n",
    "img = itk.imread(recon_file_3D)\n",
    "img.SetSpacing((0.194, 0.194, 3))\n",
    "img.Update()"
   ]
  },
  {
   "cell_type": "code",
   "execution_count": null,
   "id": "b3fa3130",
   "metadata": {},
   "outputs": [],
   "source": [
    "solution = [0, 0, 0, 0, 0, 0]"
   ]
  },
  {
   "cell_type": "code",
   "execution_count": null,
   "id": "27b35031",
   "metadata": {},
   "outputs": [],
   "source": [
    "# patient 1\n",
    "# itk.imwrite(img, \"C:/src/ITKTubeTK-ChestTomosynthesis/data/2022-ChestTomo-Scatter/TomoRecons/CS01/CS01/CS01A/TR_01_02.mha\")\n",
    "# img_3D = \"C:/src/ITKTubeTK-ChestTomosynthesis/data/2022-ChestTomo-Scatter/TomoRecons/CS01/CS01/CS01A/TR_01_02.mha\""
   ]
  },
  {
   "cell_type": "code",
   "execution_count": null,
   "id": "8d7a550e",
   "metadata": {},
   "outputs": [],
   "source": [
    "# patient 2\n",
    "# itk.imwrite(img, \"C:/src/ITKTubeTK-ChestTomosynthesis/data/2022-ChestTomo-Scatter/TomoRecons/CS02/CS02/CS02A/TR_02_02.mha\")\n",
    "# img_3D = \"C:/src/ITKTubeTK-ChestTomosynthesis/data/2022-ChestTomo-Scatter/TomoRecons/CS02/CS02/CS02A/TR_02_02.mha\""
   ]
  },
  {
   "cell_type": "code",
   "execution_count": null,
   "id": "3f28901f",
   "metadata": {},
   "outputs": [],
   "source": [
    "# patient 3\n",
    "# itk.imwrite(img, \"C:/src/ITKTubeTK-ChestTomosynthesis/data/2022-ChestTomo-Scatter/TomoRecons/CS03/CS03/CS03A/TR_03_02.mha\")\n",
    "# img_3D = \"C:/src/ITKTubeTK-ChestTomosynthesis/data/2022-ChestTomo-Scatter/TomoRecons/CS03/CS03/CS03A/TR_03_02.mha\""
   ]
  },
  {
   "cell_type": "code",
   "execution_count": null,
   "id": "4048a6c8",
   "metadata": {},
   "outputs": [],
   "source": [
    "# patient 4\n",
    "# itk.imwrite(img, \"C:/src/ITKTubeTK-ChestTomosynthesis/data/2022-ChestTomo-Scatter/TomoRecons/CS04/CS04/CS04A/TR_04_02.mha\")\n",
    "# img_3D = \"C:/src/ITKTubeTK-ChestTomosynthesis/data/2022-ChestTomo-Scatter/TomoRecons/CS04/CS04/CS04A/TR_04_02.mha\""
   ]
  },
  {
   "cell_type": "code",
   "execution_count": null,
   "id": "d2cf4474",
   "metadata": {},
   "outputs": [],
   "source": [
    "# patient 5\n",
    "itk.imwrite(img, \"C:/src/ITKTubeTK-ChestTomosynthesis/data/2022-ChestTomo-Scatter/TomoRecons/CS05/CS05/CS05A/TR_05_02.mha\")\n",
    "img_3D = \"C:/src/ITKTubeTK-ChestTomosynthesis/data/2022-ChestTomo-Scatter/TomoRecons/CS05/CS05/CS05A/TR_05_02.mha\""
   ]
  },
  {
   "cell_type": "code",
   "execution_count": null,
   "id": "8dc160f8",
   "metadata": {},
   "outputs": [],
   "source": [
    "# Get tubes from vessel segmentation .tre file\n",
    "size = itk.size(itk.imread(recon_file_3D))\n",
    "PixelType = itk.F\n",
    "Dimension = 3\n",
    "ImageType = itk.Image[PixelType, Dimension]\n",
    "TubeFileReaderType = itk.SpatialObjectReader[Dimension]\n",
    "tubeFileReader = TubeFileReaderType.New()\n",
    "tubeFileReader.SetFileName(tube_file)\n",
    "tubeFileReader.Update()\n",
    "tubes = tubeFileReader.GetGroup()\n",
    "\n",
    "print(\"Number of objects = \", tubes.GetNumberOfChildren())\n",
    "sobj = tubes.GetChildren(0)\n",
    "\n",
    "# Transform vessel segmentation points given registration solution\n",
    "for tube_num in range(len(sobj)):\n",
    "    tube = itk.down_cast(sobj[tube_num])\n",
    "    tube_points = tube.GetPoints()\n",
    "    num_points = len(tube_points)\n",
    "    print(\"Transforming the\", num_points, \"points in tube\", tube_num)\n",
    "    for point_num in range(num_points):\n",
    "        x = tube_points[point_num].GetPositionInObjectSpace()\n",
    "        new_point = [x[0], x[2], x[1]]\n",
    "        new_point = func.TransformOnePointAllParameters(x_init, new_point)\n",
    "        new_point = [((new_point[0]/(spacing))+(size[0]/2)*0.194), \n",
    "                     ((new_point[1]/(spacing))+(size[1]/2)*0.194), \n",
    "                     (((new_point[2]/0.6))*0.7079646+(size[2]/2)*3)*-1]\n",
    "        tube_points[point_num].SetPositionInObjectSpace(new_point)"
   ]
  },
  {
   "cell_type": "code",
   "execution_count": null,
   "id": "206ec308",
   "metadata": {},
   "outputs": [],
   "source": [
    "# Save transformed points\n",
    "tubesWriter = itk.SpatialObjectWriter[Dimension].New()\n",
    "tubesWriter.SetInput(tubes)\n",
    "tubesWriter.SetFileName(tube_out_file)\n",
    "tubesWriter.Update()"
   ]
  },
  {
   "cell_type": "code",
   "execution_count": null,
   "id": "abf93045",
   "metadata": {},
   "outputs": [],
   "source": [
    "# Read transformed tubes, visualize tubes with tomosynthesis reconstruction volume\n",
    "Dimension = 3\n",
    "\n",
    "reader = itk.SpatialObjectReader[Dimension].New()\n",
    "reader.SetFileName(tube_out_file)\n",
    "reader.Update()\n",
    "tubes = reader.GetGroup()"
   ]
  },
  {
   "cell_type": "code",
   "execution_count": null,
   "id": "6cb8a77f",
   "metadata": {},
   "outputs": [],
   "source": [
    "view(image=img, point_sets=tubes)"
   ]
  },
  {
   "cell_type": "code",
   "execution_count": null,
   "id": "20b202a8",
   "metadata": {},
   "outputs": [],
   "source": [
    "# Read template image\n",
    "TemplateImageType = itk.Image[PixelType, Dimension]\n",
    "TemplateImageReaderType = itk.ImageFileReader[TemplateImageType]\n",
    "    \n",
    "templateImageReader = TemplateImageReaderType.New()\n",
    "templateImageReader.SetFileName(img_3D)\n",
    "templateImageReader.Update()\n",
    "\n",
    "templateImage = templateImageReader.GetOutput()"
   ]
  },
  {
   "cell_type": "code",
   "execution_count": null,
   "id": "5aa6c8e2",
   "metadata": {},
   "outputs": [],
   "source": [
    "# Create templated points\n",
    "TubesToImageFilterType = ttk.ConvertTubesToImage[TemplateImageType]\n",
    "tubesToImageFilter = TubesToImageFilterType.New()\n",
    "tubesToImageFilter.SetUseRadius(True)\n",
    "tubesToImageFilter.SetTemplateImage(templateImageReader.GetOutput())\n",
    "tubesToImageFilter.SetInput(tubes)\n",
    "tubesToImageFilter.Update()\n",
    "\n",
    "outputImage = tubesToImageFilter.GetOutput()"
   ]
  },
  {
   "cell_type": "code",
   "execution_count": null,
   "id": "aaf0e72a",
   "metadata": {},
   "outputs": [],
   "source": [
    "view(outputImage)"
   ]
  },
  {
   "cell_type": "code",
   "execution_count": null,
   "id": "319ca2af",
   "metadata": {},
   "outputs": [],
   "source": [
    "# Create combined image\n",
    "TTKImageMathType = ttk.ImageMath[ImageType]\n",
    "\n",
    "imMath = TTKImageMathType.New(Input = outputImage)\n",
    "imMath.AddImages(templateImage, 2048, 1)\n",
    "combinedImage = imMath.GetOutput()\n",
    "WriterType = itk.ImageFileWriter[itk.Image[itk.F,3]]\n",
    "writer = WriterType.New()\n",
    "writer.SetFileName(combined_image_filename)\n",
    "writer.SetInput(combinedImage)\n",
    "writer.Update()"
   ]
  },
  {
   "cell_type": "code",
   "execution_count": null,
   "id": "d92a7a1e",
   "metadata": {},
   "outputs": [],
   "source": [
    "view(combinedImage)"
   ]
  },
  {
   "cell_type": "code",
   "execution_count": null,
   "id": "620d4d0e",
   "metadata": {},
   "outputs": [],
   "source": []
  }
 ],
 "metadata": {
  "kernelspec": {
   "display_name": "Python 3 (ipykernel)",
   "language": "python",
   "name": "python3"
  },
  "language_info": {
   "codemirror_mode": {
    "name": "ipython",
    "version": 3
   },
   "file_extension": ".py",
   "mimetype": "text/x-python",
   "name": "python",
   "nbconvert_exporter": "python",
   "pygments_lexer": "ipython3",
   "version": "3.9.0"
  }
 },
 "nbformat": 4,
 "nbformat_minor": 5
}
