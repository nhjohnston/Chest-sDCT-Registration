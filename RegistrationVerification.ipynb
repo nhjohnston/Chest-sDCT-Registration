{
 "cells": [
  {
   "cell_type": "code",
   "execution_count": 1,
   "id": "2c0c6fbf",
   "metadata": {},
   "outputs": [],
   "source": [
    "# Verification Proccess\n",
    "# 1. Get CT source points from vessel extraction\n",
    "# 2. Transform CT points given registration solution\n",
    "# 3. Create combined image\n",
    "# 4. Verify in imageviewer"
   ]
  },
  {
   "cell_type": "code",
   "execution_count": 2,
   "id": "1ec7f0eb",
   "metadata": {},
   "outputs": [],
   "source": [
    "import os\n",
    "import sys\n",
    "import numpy as np\n",
    "import itk\n",
    "from itk import TubeTK as ttk\n",
    "from itkwidgets import view\n",
    "import math\n",
    "import functions as func"
   ]
  },
  {
   "cell_type": "code",
   "execution_count": 3,
   "id": "c0f57792",
   "metadata": {},
   "outputs": [],
   "source": [
    "# Directory names\n",
    "pipelineDir = \"C:/src/chestTomoPipeline/\"\n",
    "\n",
    "# patient 1\n",
    "# tube_file = \"C:/src/ITKTubeTK-ChestTomosynthesis/data/2022-ChestTomo-Scatter/results/CT-Lungs-Vessels_01.tre\"\n",
    "# tube_out_file = \"C:/src/ITKTubeTK-ChestTomosynthesis/data/2022-ChestTomo-Scatter/results/CT-Lungs-Vessels_01_transformed.tre\"\n",
    "# recon_file_3D = \"C:/src/ITKTubeTK-ChestTomosynthesis/data/2022-ChestTomo-Scatter/TomoRecons/CS01/CS01/CS01A/TR_01_02.nii\"\n",
    "# recon_file_2D = \"C:/src/ITKTubeTK-ChestTomosynthesis/data/2022-ChestTomo-Scatter/TomoRecons/CS01/CS01/CS01A/Image_040.dcm\"\n",
    "# ct_file = \"C:/src/ITKTubeTK-ChestTomosynthesis/data/2022-ChestTomo-Scatter/CTData/CS-01_CT_8.26.20/CT_01_04.nii\" \n",
    "# solution_output_filename = \"regSolution_01.txt\"\n",
    "# combined_image_filename = \"combined_01.mha\"\n",
    "# x_init = [0, 0, -35, 0, 0, 0]\n",
    "# img = itk.imread(ct_file)\n",
    "# spacing = img.GetSpacing()\n",
    "# spacing = spacing[0]"
   ]
  },
  {
   "cell_type": "code",
   "execution_count": 4,
   "id": "f6d73c26",
   "metadata": {},
   "outputs": [],
   "source": [
    "# patient 2\n",
    "# tube_file = \"C:/src/ITKTubeTK-ChestTomosynthesis/data/2022-ChestTomo-Scatter/results/CT-Lungs-Vessels_02.tre\"\n",
    "# tube_out_file = \"C:/src/ITKTubeTK-ChestTomosynthesis/data/2022-ChestTomo-Scatter/results/CT-Lungs-Vessels_02_transformed.tre\"\n",
    "# recon_file_3D = \"C:/src/ITKTubeTK-ChestTomosynthesis/data/2022-ChestTomo-Scatter/TomoRecons/CS02/CS02/CS02A/TR_02_02.nii\"\n",
    "# recon_file_2D = \"C:/src/ITKTubeTK-ChestTomosynthesis/data/2022-ChestTomo-Scatter/TomoRecons/CS02/CS02/CS02A/Image_040.dcm\"\n",
    "# ct_file = \"C:/src/ITKTubeTK-ChestTomosynthesis/data/2022-ChestTomo-Scatter/CTData/CS-04_CT_11.17.20/CT_04_02.nii\"\n",
    "# solution_output_filename = \"regSolution_02.txt\"\n",
    "# combined_image_filename = \"combined_02.mha\"\n",
    "# x_init = [0, -55, 10, 0, 0, 0]\n",
    "# img = itk.imread(ct_file)\n",
    "# spacing = img.GetSpacing()\n",
    "# spacing = spacing[0]"
   ]
  },
  {
   "cell_type": "code",
   "execution_count": 5,
   "id": "f10fd5fa",
   "metadata": {},
   "outputs": [],
   "source": [
    "# patient 3\n",
    "# tube_file = \"C:/src/ITKTubeTK-ChestTomosynthesis/data/2022-ChestTomo-Scatter/results/CT-Lungs-Vessels_03.tre\"\n",
    "# tube_out_file = \"C:/src/ITKTubeTK-ChestTomosynthesis/data/2022-ChestTomo-Scatter/results/CT-Lungs-Vessels_03_transformed.tre\"\n",
    "# recon_file_3D = \"C:/src/ITKTubeTK-ChestTomosynthesis/data/2022-ChestTomo-Scatter/TomoRecons/CS03/CS03/CS03A/TR_03_02.nii\"\n",
    "# recon_file_2D = \"C:/src/ITKTubeTK-ChestTomosynthesis/data/2022-ChestTomo-Scatter/TomoRecons/CS03/CS03/CS03A/Image_040.dcm\"\n",
    "# ct_file = \"C:/src/ITKTubeTK-ChestTomosynthesis/data/2022-ChestTomo-Scatter/CTData/CS-03_CT_11.16.20/CT_03_04.nii\" \n",
    "# solution_output_filename = \"regSolution_03.txt\"\n",
    "# combined_image_filename = \"combined_03.mha\"\n",
    "# x_init = [10, 275, -50, 0, 0, 0]\n",
    "# img = itk.imread(ct_file)\n",
    "# spacing = img.GetSpacing()\n",
    "# spacing = spacing[0]"
   ]
  },
  {
   "cell_type": "code",
   "execution_count": 6,
   "id": "6d7e73d8",
   "metadata": {},
   "outputs": [],
   "source": [
    "# patient 4\n",
    "# tube_file = \"C:/src/ITKTubeTK-ChestTomosynthesis/data/2022-ChestTomo-Scatter/results/CT-Lungs-Vessels_04.tre\"\n",
    "# tube_out_file = \"C:/src/ITKTubeTK-ChestTomosynthesis/data/2022-ChestTomo-Scatter/results/CT-Lungs-Vessels_04_transformed.tre\"\n",
    "# recon_file_3D = \"C:/src/ITKTubeTK-ChestTomosynthesis/data/2022-ChestTomo-Scatter/TomoRecons/CS04/CS04/CS04A/TR_04_02.nii\"\n",
    "# recon_file_2D = \"C:/src/ITKTubeTK-ChestTomosynthesis/data/2022-ChestTomo-Scatter/TomoRecons/CS04/CS04/CS04A/Image_040.dcm\"\n",
    "# ct_file = \"C:/src/ITKTubeTK-ChestTomosynthesis/data/2022-ChestTomo-Scatter/CTData/CS-04_CT_11.17.20/CT_04_02.nii\"\n",
    "# solution_output_filename = \"regSolution_04.txt\"\n",
    "# combined_image_filename = \"combined_04.mha\"\n",
    "# x_init = [-10, 155, -25, 0, 0, 0]\n",
    "# img = itk.imread(ct_file)\n",
    "# spacing = img.GetSpacing()\n",
    "# spacing = spacing[0]"
   ]
  },
  {
   "cell_type": "code",
   "execution_count": 7,
   "id": "56307920",
   "metadata": {},
   "outputs": [],
   "source": [
    "##### patient 5\n",
    "tube_file = \"C:/src/ITKTubeTK-ChestTomosynthesis/data/2022-ChestTomo-Scatter/results/CT-Lungs-Vessels_05.tre\"\n",
    "tube_out_file = \"C:/src/ITKTubeTK-ChestTomosynthesis/data/2022-ChestTomo-Scatter/results/CT-Lungs-Vessels_05_transformed.tre\"\n",
    "recon_file_3D = \"C:/src/ITKTubeTK-ChestTomosynthesis/data/2022-ChestTomo-Scatter/TomoRecons/CS05/CS05/CS05A/TR_05_02.nii\"\n",
    "recon_file_2D = \"C:/src/ITKTubeTK-ChestTomosynthesis/data/2022-ChestTomo-Scatter/TomoRecons/CS05/CS05/CS05A/Image_040.dcm\"\n",
    "ct_file = \"C:/src/ITKTubeTK-ChestTomosynthesis/data/2022-ChestTomo-Scatter/CTData/CS-05_CT_11.18.20/CT_05_03.nii\" \n",
    "solution_output_filename = \"regSolution_05.txt\"\n",
    "combined_image_filename = \"combined_05.mha\"\n",
    "x_init = [-20, 120, -50, 0, 0, 0]\n",
    "img = itk.imread(ct_file)\n",
    "spacing = img.GetSpacing()\n",
    "spacing = spacing[0]"
   ]
  },
  {
   "cell_type": "code",
   "execution_count": 8,
   "id": "91c85615",
   "metadata": {},
   "outputs": [],
   "source": [
    "# Get solution stored from registraion\n",
    "with open(pipelineDir+solution_output_filename) as f:\n",
    "    # first three are fit \n",
    "    lines = f.readlines()\n",
    "    solution = []\n",
    "    for line in lines:\n",
    "        solution.append(float(line))\n",
    "        \n",
    "solution = [solution[0], solution[1], solution[2],-solution[3], -solution[4], solution[5]]\n",
    "# Change spacing in tomoRecon volume to correct spacing, write corrected image\n",
    "img = itk.imread(recon_file_3D)\n",
    "img.SetSpacing((0.194, 0.194, 3))\n",
    "img.Update()"
   ]
  },
  {
   "cell_type": "code",
   "execution_count": 9,
   "id": "27b35031",
   "metadata": {},
   "outputs": [],
   "source": [
    "# patient 1\n",
    "# itk.imwrite(img, \"C:/src/ITKTubeTK-ChestTomosynthesis/data/2022-ChestTomo-Scatter/TomoRecons/CS01/CS01/CS01A/TR_01_02.mha\")\n",
    "# img_3D = \"C:/src/ITKTubeTK-ChestTomosynthesis/data/2022-ChestTomo-Scatter/TomoRecons/CS01/CS01/CS01A/TR_01_02.mha\""
   ]
  },
  {
   "cell_type": "code",
   "execution_count": 10,
   "id": "8d7a550e",
   "metadata": {},
   "outputs": [],
   "source": [
    "# patient 2\n",
    "# itk.imwrite(img, \"C:/src/ITKTubeTK-ChestTomosynthesis/data/2022-ChestTomo-Scatter/TomoRecons/CS02/CS02/CS02A/TR_02_02.mha\")\n",
    "# img_3D = \"C:/src/ITKTubeTK-ChestTomosynthesis/data/2022-ChestTomo-Scatter/TomoRecons/CS02/CS02/CS02A/TR_02_02.mha\""
   ]
  },
  {
   "cell_type": "code",
   "execution_count": 11,
   "id": "3f28901f",
   "metadata": {},
   "outputs": [],
   "source": [
    "# patient 3\n",
    "# itk.imwrite(img, \"C:/src/ITKTubeTK-ChestTomosynthesis/data/2022-ChestTomo-Scatter/TomoRecons/CS03/CS03/CS03A/TR_03_02.mha\")\n",
    "# img_3D = \"C:/src/ITKTubeTK-ChestTomosynthesis/data/2022-ChestTomo-Scatter/TomoRecons/CS03/CS03/CS03A/TR_03_02.mha\""
   ]
  },
  {
   "cell_type": "code",
   "execution_count": 12,
   "id": "4048a6c8",
   "metadata": {},
   "outputs": [],
   "source": [
    "# patient 4\n",
    "# itk.imwrite(img, \"C:/src/ITKTubeTK-ChestTomosynthesis/data/2022-ChestTomo-Scatter/TomoRecons/CS04/CS04/CS04A/TR_04_02.mha\")\n",
    "# img_3D = \"C:/src/ITKTubeTK-ChestTomosynthesis/data/2022-ChestTomo-Scatter/TomoRecons/CS04/CS04/CS04A/TR_04_02.mha\""
   ]
  },
  {
   "cell_type": "code",
   "execution_count": 13,
   "id": "d2cf4474",
   "metadata": {},
   "outputs": [],
   "source": [
    "# patient 5\n",
    "itk.imwrite(img, \"C:/src/ITKTubeTK-ChestTomosynthesis/data/2022-ChestTomo-Scatter/TomoRecons/CS05/CS05/CS05A/TR_05_02.mha\")\n",
    "img_3D = \"C:/src/ITKTubeTK-ChestTomosynthesis/data/2022-ChestTomo-Scatter/TomoRecons/CS05/CS05/CS05A/TR_05_02.mha\""
   ]
  },
  {
   "cell_type": "code",
   "execution_count": 14,
   "id": "8dc160f8",
   "metadata": {},
   "outputs": [
    {
     "name": "stdout",
     "output_type": "stream",
     "text": [
      "Number of objects =  173\n",
      "Transforming the 1602 points in tube 0\n",
      "Transforming the 868 points in tube 1\n",
      "Transforming the 1482 points in tube 2\n",
      "Transforming the 571 points in tube 3\n",
      "Transforming the 346 points in tube 4\n",
      "Transforming the 3029 points in tube 5\n",
      "Transforming the 1022 points in tube 6\n",
      "Transforming the 680 points in tube 7\n",
      "Transforming the 794 points in tube 8\n",
      "Transforming the 670 points in tube 9\n",
      "Transforming the 1673 points in tube 10\n",
      "Transforming the 974 points in tube 11\n",
      "Transforming the 2072 points in tube 12\n",
      "Transforming the 342 points in tube 13\n",
      "Transforming the 1545 points in tube 14\n",
      "Transforming the 1960 points in tube 15\n",
      "Transforming the 460 points in tube 16\n",
      "Transforming the 1217 points in tube 17\n",
      "Transforming the 960 points in tube 18\n",
      "Transforming the 1151 points in tube 19\n",
      "Transforming the 2158 points in tube 20\n",
      "Transforming the 1040 points in tube 21\n",
      "Transforming the 602 points in tube 22\n",
      "Transforming the 440 points in tube 23\n",
      "Transforming the 974 points in tube 24\n",
      "Transforming the 668 points in tube 25\n",
      "Transforming the 1451 points in tube 26\n",
      "Transforming the 1348 points in tube 27\n",
      "Transforming the 551 points in tube 28\n",
      "Transforming the 588 points in tube 29\n",
      "Transforming the 1139 points in tube 30\n",
      "Transforming the 1677 points in tube 31\n",
      "Transforming the 360 points in tube 32\n",
      "Transforming the 1208 points in tube 33\n",
      "Transforming the 1528 points in tube 34\n",
      "Transforming the 660 points in tube 35\n",
      "Transforming the 926 points in tube 36\n",
      "Transforming the 1079 points in tube 37\n",
      "Transforming the 312 points in tube 38\n",
      "Transforming the 916 points in tube 39\n",
      "Transforming the 824 points in tube 40\n",
      "Transforming the 1850 points in tube 41\n",
      "Transforming the 600 points in tube 42\n",
      "Transforming the 307 points in tube 43\n",
      "Transforming the 1221 points in tube 44\n",
      "Transforming the 1348 points in tube 45\n",
      "Transforming the 1045 points in tube 46\n",
      "Transforming the 437 points in tube 47\n",
      "Transforming the 630 points in tube 48\n",
      "Transforming the 1105 points in tube 49\n",
      "Transforming the 754 points in tube 50\n",
      "Transforming the 933 points in tube 51\n",
      "Transforming the 393 points in tube 52\n",
      "Transforming the 923 points in tube 53\n",
      "Transforming the 879 points in tube 54\n",
      "Transforming the 737 points in tube 55\n",
      "Transforming the 2083 points in tube 56\n",
      "Transforming the 1700 points in tube 57\n",
      "Transforming the 843 points in tube 58\n",
      "Transforming the 720 points in tube 59\n",
      "Transforming the 687 points in tube 60\n",
      "Transforming the 1289 points in tube 61\n",
      "Transforming the 730 points in tube 62\n",
      "Transforming the 401 points in tube 63\n",
      "Transforming the 1623 points in tube 64\n",
      "Transforming the 1037 points in tube 65\n",
      "Transforming the 835 points in tube 66\n",
      "Transforming the 480 points in tube 67\n",
      "Transforming the 524 points in tube 68\n",
      "Transforming the 588 points in tube 69\n",
      "Transforming the 389 points in tube 70\n",
      "Transforming the 500 points in tube 71\n",
      "Transforming the 840 points in tube 72\n",
      "Transforming the 973 points in tube 73\n",
      "Transforming the 1101 points in tube 74\n",
      "Transforming the 586 points in tube 75\n",
      "Transforming the 532 points in tube 76\n",
      "Transforming the 1085 points in tube 77\n",
      "Transforming the 1046 points in tube 78\n",
      "Transforming the 661 points in tube 79\n",
      "Transforming the 1087 points in tube 80\n",
      "Transforming the 335 points in tube 81\n",
      "Transforming the 601 points in tube 82\n",
      "Transforming the 1335 points in tube 83\n",
      "Transforming the 755 points in tube 84\n",
      "Transforming the 660 points in tube 85\n",
      "Transforming the 665 points in tube 86\n",
      "Transforming the 1280 points in tube 87\n",
      "Transforming the 407 points in tube 88\n",
      "Transforming the 751 points in tube 89\n",
      "Transforming the 719 points in tube 90\n",
      "Transforming the 417 points in tube 91\n",
      "Transforming the 1038 points in tube 92\n",
      "Transforming the 440 points in tube 93\n",
      "Transforming the 968 points in tube 94\n",
      "Transforming the 720 points in tube 95\n",
      "Transforming the 371 points in tube 96\n",
      "Transforming the 901 points in tube 97\n",
      "Transforming the 445 points in tube 98\n",
      "Transforming the 489 points in tube 99\n",
      "Transforming the 843 points in tube 100\n",
      "Transforming the 1839 points in tube 101\n",
      "Transforming the 122 points in tube 102\n",
      "Transforming the 1772 points in tube 103\n",
      "Transforming the 740 points in tube 104\n",
      "Transforming the 638 points in tube 105\n",
      "Transforming the 522 points in tube 106\n",
      "Transforming the 412 points in tube 107\n",
      "Transforming the 591 points in tube 108\n",
      "Transforming the 1014 points in tube 109\n",
      "Transforming the 375 points in tube 110\n",
      "Transforming the 527 points in tube 111\n",
      "Transforming the 618 points in tube 112\n",
      "Transforming the 570 points in tube 113\n",
      "Transforming the 553 points in tube 114\n",
      "Transforming the 557 points in tube 115\n",
      "Transforming the 426 points in tube 116\n",
      "Transforming the 438 points in tube 117\n",
      "Transforming the 422 points in tube 118\n",
      "Transforming the 1113 points in tube 119\n",
      "Transforming the 592 points in tube 120\n",
      "Transforming the 184 points in tube 121\n",
      "Transforming the 537 points in tube 122\n",
      "Transforming the 121 points in tube 123\n",
      "Transforming the 369 points in tube 124\n",
      "Transforming the 1356 points in tube 125\n",
      "Transforming the 628 points in tube 126\n",
      "Transforming the 210 points in tube 127\n",
      "Transforming the 120 points in tube 128\n",
      "Transforming the 842 points in tube 129\n",
      "Transforming the 631 points in tube 130\n",
      "Transforming the 443 points in tube 131\n",
      "Transforming the 359 points in tube 132\n",
      "Transforming the 485 points in tube 133\n",
      "Transforming the 710 points in tube 134\n",
      "Transforming the 80 points in tube 135\n",
      "Transforming the 499 points in tube 136\n",
      "Transforming the 261 points in tube 137\n",
      "Transforming the 486 points in tube 138\n",
      "Transforming the 98 points in tube 139\n",
      "Transforming the 415 points in tube 140\n",
      "Transforming the 161 points in tube 141\n",
      "Transforming the 489 points in tube 142\n",
      "Transforming the 79 points in tube 143\n",
      "Transforming the 275 points in tube 144\n",
      "Transforming the 372 points in tube 145\n",
      "Transforming the 439 points in tube 146\n",
      "Transforming the 120 points in tube 147\n",
      "Transforming the 110 points in tube 148\n",
      "Transforming the 191 points in tube 149\n",
      "Transforming the 141 points in tube 150\n",
      "Transforming the 490 points in tube 151\n",
      "Transforming the 431 points in tube 152\n",
      "Transforming the 257 points in tube 153\n",
      "Transforming the 472 points in tube 154\n",
      "Transforming the 546 points in tube 155\n",
      "Transforming the 335 points in tube 156\n",
      "Transforming the 430 points in tube 157\n",
      "Transforming the 151 points in tube 158\n",
      "Transforming the 623 points in tube 159\n",
      "Transforming the 516 points in tube 160\n",
      "Transforming the 86 points in tube 161\n",
      "Transforming the 130 points in tube 162\n",
      "Transforming the 80 points in tube 163\n",
      "Transforming the 538 points in tube 164\n",
      "Transforming the 498 points in tube 165\n",
      "Transforming the 211 points in tube 166\n",
      "Transforming the 78 points in tube 167\n",
      "Transforming the 661 points in tube 168\n",
      "Transforming the 289 points in tube 169\n",
      "Transforming the 277 points in tube 170\n",
      "Transforming the 102 points in tube 171\n",
      "Transforming the 75 points in tube 172\n"
     ]
    }
   ],
   "source": [
    "# Get tubes from vessel segmentation .tre file\n",
    "size = itk.size(itk.imread(recon_file_3D))\n",
    "PixelType = itk.F\n",
    "Dimension = 3\n",
    "ImageType = itk.Image[PixelType, Dimension]\n",
    "TubeFileReaderType = itk.SpatialObjectReader[Dimension]\n",
    "tubeFileReader = TubeFileReaderType.New()\n",
    "tubeFileReader.SetFileName(tube_file)\n",
    "tubeFileReader.Update()\n",
    "tubes = tubeFileReader.GetGroup()\n",
    "\n",
    "print(\"Number of objects = \", tubes.GetNumberOfChildren())\n",
    "sobj = tubes.GetChildren(0)\n",
    "\n",
    "# Transform vessel segmentation points given registration solution\n",
    "for tube_num in range(len(sobj)):\n",
    "    tube = itk.down_cast(sobj[tube_num])\n",
    "    tube_points = tube.GetPoints()\n",
    "    num_points = len(tube_points)\n",
    "    print(\"Transforming the\", num_points, \"points in tube\", tube_num)\n",
    "    for point_num in range(num_points):\n",
    "        x = tube_points[point_num].GetPositionInObjectSpace()\n",
    "        new_point = [x[0], x[2], x[1]]\n",
    "        new_point = func.TransformOnePointAllParameters(solution, \n",
    "                                        func.TransformOnePointAllParameters(x_init, new_point))\n",
    "        new_point = [((new_point[0]/(spacing))+(size[0]/2)*0.194), \n",
    "                     ((new_point[1]/(spacing))+(size[1]/2)*0.194), \n",
    "                     (((new_point[2]/0.6))*0.7079646+(size[2]/2)*3)*-1]\n",
    "        tube_points[point_num].SetPositionInObjectSpace(new_point)"
   ]
  },
  {
   "cell_type": "code",
   "execution_count": 15,
   "id": "206ec308",
   "metadata": {},
   "outputs": [],
   "source": [
    "# Save transformed points\n",
    "tubesWriter = itk.SpatialObjectWriter[Dimension].New()\n",
    "tubesWriter.SetInput(tubes)\n",
    "tubesWriter.SetFileName(tube_out_file)\n",
    "tubesWriter.Update()"
   ]
  },
  {
   "cell_type": "code",
   "execution_count": 16,
   "id": "abf93045",
   "metadata": {},
   "outputs": [],
   "source": [
    "# Read transformed tubes, visualize tubes with tomosynthesis reconstruction volume\n",
    "Dimension = 3\n",
    "\n",
    "reader = itk.SpatialObjectReader[Dimension].New()\n",
    "reader.SetFileName(tube_out_file)\n",
    "reader.Update()\n",
    "tubes = reader.GetGroup()"
   ]
  },
  {
   "cell_type": "code",
   "execution_count": 17,
   "id": "6cb8a77f",
   "metadata": {},
   "outputs": [
    {
     "data": {
      "application/vnd.jupyter.widget-view+json": {
       "model_id": "d412ef2a908e490e9ad0c4fc44769995",
       "version_major": 2,
       "version_minor": 0
      },
      "text/plain": [
       "Viewer(geometries=[], gradient_opacity=0.22, point_set_colors=array([[0.8392157, 0.       , 0.       ]], dtype…"
      ]
     },
     "metadata": {},
     "output_type": "display_data"
    }
   ],
   "source": [
    "view(image=img, point_sets=tubes)"
   ]
  },
  {
   "cell_type": "code",
   "execution_count": 18,
   "id": "20b202a8",
   "metadata": {},
   "outputs": [],
   "source": [
    "# Read template image\n",
    "TemplateImageType = itk.Image[PixelType, Dimension]\n",
    "TemplateImageReaderType = itk.ImageFileReader[TemplateImageType]\n",
    "    \n",
    "templateImageReader = TemplateImageReaderType.New()\n",
    "templateImageReader.SetFileName(img_3D)\n",
    "templateImageReader.Update()\n",
    "\n",
    "templateImage = templateImageReader.GetOutput()"
   ]
  },
  {
   "cell_type": "code",
   "execution_count": 19,
   "id": "5aa6c8e2",
   "metadata": {},
   "outputs": [
    {
     "name": "stderr",
     "output_type": "stream",
     "text": [
      "itkImageF4 not loaded from module TubeTK because of exception:\n",
      " module 'itk.TubeTKPython' has no attribute 'itkImageF4'\n",
      "vectoritkImageF4 not loaded from module TubeTK because of exception:\n",
      " module 'itk.TubeTKPython' has no attribute 'vectoritkImageF4'\n"
     ]
    }
   ],
   "source": [
    "# Create templated points\n",
    "TubesToImageFilterType = ttk.ConvertTubesToImage[TemplateImageType]\n",
    "tubesToImageFilter = TubesToImageFilterType.New()\n",
    "tubesToImageFilter.SetUseRadius(True)\n",
    "tubesToImageFilter.SetTemplateImage(templateImageReader.GetOutput())\n",
    "tubesToImageFilter.SetInput(tubes)\n",
    "tubesToImageFilter.Update()\n",
    "\n",
    "outputImage = tubesToImageFilter.GetOutput()"
   ]
  },
  {
   "cell_type": "code",
   "execution_count": 20,
   "id": "aaf0e72a",
   "metadata": {},
   "outputs": [
    {
     "data": {
      "application/vnd.jupyter.widget-view+json": {
       "model_id": "6ce92303d2664fd6b4a91825df4d28c2",
       "version_major": 2,
       "version_minor": 0
      },
      "text/plain": [
       "Viewer(geometries=[], gradient_opacity=0.22, point_sets=[], rendered_image=<itk.itkImagePython.itkImageF3; pro…"
      ]
     },
     "metadata": {},
     "output_type": "display_data"
    }
   ],
   "source": [
    "view(outputImage)"
   ]
  },
  {
   "cell_type": "code",
   "execution_count": 21,
   "id": "319ca2af",
   "metadata": {},
   "outputs": [],
   "source": [
    "# Create combined image\n",
    "TTKImageMathType = ttk.ImageMath[ImageType]\n",
    "\n",
    "imMath = TTKImageMathType.New(Input = outputImage)\n",
    "imMath.AddImages(templateImage, 2048, 1)\n",
    "combinedImage = imMath.GetOutput()\n",
    "WriterType = itk.ImageFileWriter[itk.Image[itk.F,3]]\n",
    "writer = WriterType.New()\n",
    "writer.SetFileName(combined_image_filename)\n",
    "writer.SetInput(combinedImage)\n",
    "writer.Update()"
   ]
  },
  {
   "cell_type": "code",
   "execution_count": 22,
   "id": "d92a7a1e",
   "metadata": {},
   "outputs": [
    {
     "data": {
      "application/vnd.jupyter.widget-view+json": {
       "model_id": "aa3bd921a88c4bd9adf4d90280e497ad",
       "version_major": 2,
       "version_minor": 0
      },
      "text/plain": [
       "Viewer(geometries=[], gradient_opacity=0.22, point_sets=[], rendered_image=<itk.itkImagePython.itkImageF3; pro…"
      ]
     },
     "metadata": {},
     "output_type": "display_data"
    }
   ],
   "source": [
    "view(combinedImage)"
   ]
  },
  {
   "cell_type": "code",
   "execution_count": null,
   "id": "f2cd206c",
   "metadata": {},
   "outputs": [],
   "source": []
  }
 ],
 "metadata": {
  "kernelspec": {
   "display_name": "Python 3 (ipykernel)",
   "language": "python",
   "name": "python3"
  },
  "language_info": {
   "codemirror_mode": {
    "name": "ipython",
    "version": 3
   },
   "file_extension": ".py",
   "mimetype": "text/x-python",
   "name": "python",
   "nbconvert_exporter": "python",
   "pygments_lexer": "ipython3",
   "version": "3.9.0"
  }
 },
 "nbformat": 4,
 "nbformat_minor": 5
}
